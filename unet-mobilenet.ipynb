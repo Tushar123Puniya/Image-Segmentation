{
 "cells": [
  {
   "cell_type": "markdown",
   "id": "5d35498b",
   "metadata": {
    "papermill": {
     "duration": 0.003861,
     "end_time": "2023-10-08T15:49:54.722738",
     "exception": false,
     "start_time": "2023-10-08T15:49:54.718877",
     "status": "completed"
    },
    "tags": []
   },
   "source": [
    "**Importing Necessary Libraries**"
   ]
  },
  {
   "cell_type": "code",
   "execution_count": 1,
   "id": "558a600d",
   "metadata": {
    "execution": {
     "iopub.execute_input": "2023-10-08T15:49:54.731517Z",
     "iopub.status.busy": "2023-10-08T15:49:54.731206Z",
     "iopub.status.idle": "2023-10-08T15:50:07.990657Z",
     "shell.execute_reply": "2023-10-08T15:50:07.989693Z"
    },
    "papermill": {
     "duration": 13.266481,
     "end_time": "2023-10-08T15:50:07.992860",
     "exception": false,
     "start_time": "2023-10-08T15:49:54.726379",
     "status": "completed"
    },
    "tags": []
   },
   "outputs": [
    {
     "name": "stdout",
     "output_type": "stream",
     "text": [
      "Collecting torchsummary\r\n",
      "  Downloading torchsummary-1.5.1-py3-none-any.whl (2.8 kB)\r\n",
      "Installing collected packages: torchsummary\r\n",
      "Successfully installed torchsummary-1.5.1\r\n",
      "Note: you may need to restart the kernel to use updated packages.\n"
     ]
    }
   ],
   "source": [
    "%pip install torchsummary\n",
    "\n",
    "import time\n",
    "\n",
    "import numpy as np\n",
    "import torch\n",
    "import torch.nn as nn\n",
    "from torchsummary import summary\n",
    "import torch.nn.functional as F\n",
    "import torchvision.models as models\n",
    "import torchvision.models._utils as _utils\n",
    "from torch.autograd import Variable\n",
    "from collections import OrderedDict"
   ]
  },
  {
   "cell_type": "markdown",
   "id": "df683b8f",
   "metadata": {
    "papermill": {
     "duration": 0.003519,
     "end_time": "2023-10-08T15:50:08.000330",
     "exception": false,
     "start_time": "2023-10-08T15:50:07.996811",
     "status": "completed"
    },
    "tags": []
   },
   "source": [
    "**Mobilenet**"
   ]
  },
  {
   "cell_type": "code",
   "execution_count": 2,
   "id": "47c553ae",
   "metadata": {
    "execution": {
     "iopub.execute_input": "2023-10-08T15:50:08.008786Z",
     "iopub.status.busy": "2023-10-08T15:50:08.008417Z",
     "iopub.status.idle": "2023-10-08T15:50:16.569849Z",
     "shell.execute_reply": "2023-10-08T15:50:16.568965Z"
    },
    "papermill": {
     "duration": 8.569072,
     "end_time": "2023-10-08T15:50:16.572911",
     "exception": false,
     "start_time": "2023-10-08T15:50:08.003839",
     "status": "completed"
    },
    "tags": []
   },
   "outputs": [
    {
     "name": "stdout",
     "output_type": "stream",
     "text": [
      "----------------------------------------------------------------\n",
      "        Layer (type)               Output Shape         Param #\n",
      "================================================================\n",
      "            Conv2d-1         [-1, 32, 256, 256]             864\n",
      "       BatchNorm2d-2         [-1, 32, 256, 256]              64\n",
      "             ReLU6-3         [-1, 32, 256, 256]               0\n",
      "            Conv2d-4         [-1, 32, 256, 256]             288\n",
      "       BatchNorm2d-5         [-1, 32, 256, 256]              64\n",
      "             ReLU6-6         [-1, 32, 256, 256]               0\n",
      "            Conv2d-7         [-1, 64, 256, 256]           2,048\n",
      "       BatchNorm2d-8         [-1, 64, 256, 256]             128\n",
      "             ReLU6-9         [-1, 64, 256, 256]               0\n",
      "           Conv2d-10         [-1, 64, 128, 128]             576\n",
      "      BatchNorm2d-11         [-1, 64, 128, 128]             128\n",
      "            ReLU6-12         [-1, 64, 128, 128]               0\n",
      "           Conv2d-13        [-1, 128, 128, 128]           8,192\n",
      "      BatchNorm2d-14        [-1, 128, 128, 128]             256\n",
      "            ReLU6-15        [-1, 128, 128, 128]               0\n",
      "           Conv2d-16        [-1, 128, 128, 128]           1,152\n",
      "      BatchNorm2d-17        [-1, 128, 128, 128]             256\n",
      "            ReLU6-18        [-1, 128, 128, 128]               0\n",
      "           Conv2d-19        [-1, 128, 128, 128]          16,384\n",
      "      BatchNorm2d-20        [-1, 128, 128, 128]             256\n",
      "            ReLU6-21        [-1, 128, 128, 128]               0\n",
      "           Conv2d-22          [-1, 128, 64, 64]           1,152\n",
      "      BatchNorm2d-23          [-1, 128, 64, 64]             256\n",
      "            ReLU6-24          [-1, 128, 64, 64]               0\n",
      "           Conv2d-25          [-1, 256, 64, 64]          32,768\n",
      "      BatchNorm2d-26          [-1, 256, 64, 64]             512\n",
      "            ReLU6-27          [-1, 256, 64, 64]               0\n",
      "           Conv2d-28          [-1, 256, 64, 64]           2,304\n",
      "      BatchNorm2d-29          [-1, 256, 64, 64]             512\n",
      "            ReLU6-30          [-1, 256, 64, 64]               0\n",
      "           Conv2d-31          [-1, 256, 64, 64]          65,536\n",
      "      BatchNorm2d-32          [-1, 256, 64, 64]             512\n",
      "            ReLU6-33          [-1, 256, 64, 64]               0\n",
      "           Conv2d-34          [-1, 256, 32, 32]           2,304\n",
      "      BatchNorm2d-35          [-1, 256, 32, 32]             512\n",
      "            ReLU6-36          [-1, 256, 32, 32]               0\n",
      "           Conv2d-37          [-1, 512, 32, 32]         131,072\n",
      "      BatchNorm2d-38          [-1, 512, 32, 32]           1,024\n",
      "            ReLU6-39          [-1, 512, 32, 32]               0\n",
      "           Conv2d-40          [-1, 512, 32, 32]           4,608\n",
      "      BatchNorm2d-41          [-1, 512, 32, 32]           1,024\n",
      "            ReLU6-42          [-1, 512, 32, 32]               0\n",
      "           Conv2d-43          [-1, 512, 32, 32]         262,144\n",
      "      BatchNorm2d-44          [-1, 512, 32, 32]           1,024\n",
      "            ReLU6-45          [-1, 512, 32, 32]               0\n",
      "           Conv2d-46          [-1, 512, 32, 32]           4,608\n",
      "      BatchNorm2d-47          [-1, 512, 32, 32]           1,024\n",
      "            ReLU6-48          [-1, 512, 32, 32]               0\n",
      "           Conv2d-49          [-1, 512, 32, 32]         262,144\n",
      "      BatchNorm2d-50          [-1, 512, 32, 32]           1,024\n",
      "            ReLU6-51          [-1, 512, 32, 32]               0\n",
      "           Conv2d-52          [-1, 512, 32, 32]           4,608\n",
      "      BatchNorm2d-53          [-1, 512, 32, 32]           1,024\n",
      "            ReLU6-54          [-1, 512, 32, 32]               0\n",
      "           Conv2d-55          [-1, 512, 32, 32]         262,144\n",
      "      BatchNorm2d-56          [-1, 512, 32, 32]           1,024\n",
      "            ReLU6-57          [-1, 512, 32, 32]               0\n",
      "           Conv2d-58          [-1, 512, 32, 32]           4,608\n",
      "      BatchNorm2d-59          [-1, 512, 32, 32]           1,024\n",
      "            ReLU6-60          [-1, 512, 32, 32]               0\n",
      "           Conv2d-61          [-1, 512, 32, 32]         262,144\n",
      "      BatchNorm2d-62          [-1, 512, 32, 32]           1,024\n",
      "            ReLU6-63          [-1, 512, 32, 32]               0\n",
      "           Conv2d-64          [-1, 512, 32, 32]           4,608\n",
      "      BatchNorm2d-65          [-1, 512, 32, 32]           1,024\n",
      "            ReLU6-66          [-1, 512, 32, 32]               0\n",
      "           Conv2d-67          [-1, 512, 32, 32]         262,144\n",
      "      BatchNorm2d-68          [-1, 512, 32, 32]           1,024\n",
      "            ReLU6-69          [-1, 512, 32, 32]               0\n",
      "           Conv2d-70          [-1, 512, 16, 16]           4,608\n",
      "      BatchNorm2d-71          [-1, 512, 16, 16]           1,024\n",
      "            ReLU6-72          [-1, 512, 16, 16]               0\n",
      "           Conv2d-73         [-1, 1024, 16, 16]         524,288\n",
      "      BatchNorm2d-74         [-1, 1024, 16, 16]           2,048\n",
      "            ReLU6-75         [-1, 1024, 16, 16]               0\n",
      "           Conv2d-76         [-1, 1024, 16, 16]           9,216\n",
      "      BatchNorm2d-77         [-1, 1024, 16, 16]           2,048\n",
      "            ReLU6-78         [-1, 1024, 16, 16]               0\n",
      "           Conv2d-79         [-1, 1024, 16, 16]       1,048,576\n",
      "      BatchNorm2d-80         [-1, 1024, 16, 16]           2,048\n",
      "            ReLU6-81         [-1, 1024, 16, 16]               0\n",
      "AdaptiveAvgPool2d-82           [-1, 1024, 1, 1]               0\n",
      "           Linear-83                 [-1, 1000]       1,025,000\n",
      "================================================================\n",
      "Total params: 4,231,976\n",
      "Trainable params: 4,231,976\n",
      "Non-trainable params: 0\n",
      "----------------------------------------------------------------\n",
      "Input size (MB): 0.75\n",
      "Forward/backward pass size (MB): 603.02\n",
      "Params size (MB): 16.14\n",
      "Estimated Total Size (MB): 619.91\n",
      "----------------------------------------------------------------\n"
     ]
    }
   ],
   "source": [
    "# conv_bn为网络的第一个卷积块，步长为2\n",
    "def conv_bn(inp, oup, stride=1):\n",
    "    return nn.Sequential(\n",
    "        nn.Conv2d(inp, oup, 3, stride, 1, bias=False),\n",
    "        nn.BatchNorm2d(oup),\n",
    "        nn.ReLU6(inplace=True)\n",
    "    )\n",
    "\n",
    "\n",
    "# conv_dw为深度可分离卷积\n",
    "def conv_dw(inp, oup, stride=1):\n",
    "    return nn.Sequential(\n",
    "        # 3x3卷积提取特征，步长为2\n",
    "        nn.Conv2d(inp, inp, 3, stride, 1, groups=inp, bias=False),\n",
    "        nn.BatchNorm2d(inp),\n",
    "        nn.ReLU6(inplace=True),\n",
    "\n",
    "        # 1x1卷积，步长为1\n",
    "        nn.Conv2d(inp, oup, 1, 1, bias=False),\n",
    "        nn.BatchNorm2d(oup),\n",
    "        nn.ReLU6(inplace=True),\n",
    "    )\n",
    "\n",
    "\n",
    "class MobileNet(nn.Module):\n",
    "    def __init__(self, n_channels):\n",
    "        super(MobileNet, self).__init__()\n",
    "        self.layer1 = nn.Sequential(\n",
    "            # 第一个卷积块，步长为2，压缩一次\n",
    "            conv_bn(n_channels, 32, 1),  # 416,416,3 -> 208,208,32\n",
    "\n",
    "            # 第一个深度可分离卷积，步长为1\n",
    "            conv_dw(32, 64, 1),  # 208,208,32 -> 208,208,64\n",
    "\n",
    "            # 两个深度可分离卷积块\n",
    "            conv_dw(64, 128, 2),  # 208,208,64 -> 104,104,128\n",
    "            conv_dw(128, 128, 1),\n",
    "\n",
    "            # 104,104,128 -> 52,52,256\n",
    "            conv_dw(128, 256, 2),\n",
    "            conv_dw(256, 256, 1),\n",
    "        )\n",
    "        # 52,52,256 -> 26,26,512\n",
    "        self.layer2 = nn.Sequential(\n",
    "            conv_dw(256, 512, 2),\n",
    "            conv_dw(512, 512, 1),\n",
    "            conv_dw(512, 512, 1),\n",
    "            conv_dw(512, 512, 1),\n",
    "            conv_dw(512, 512, 1),\n",
    "            conv_dw(512, 512, 1),\n",
    "        )\n",
    "        # 26,26,512 -> 13,13,1024\n",
    "        self.layer3 = nn.Sequential(\n",
    "            conv_dw(512, 1024, 2),\n",
    "            conv_dw(1024, 1024, 1),\n",
    "        )\n",
    "        self.avg = nn.AdaptiveAvgPool2d((1, 1))\n",
    "        self.fc = nn.Linear(1024, 1000)\n",
    "\n",
    "    def forward(self, x):\n",
    "        x = self.layer1(x)\n",
    "        x = self.layer2(x)\n",
    "        x = self.layer3(x)\n",
    "        x = self.avg(x)\n",
    "\n",
    "        x = x.view(-1, 1024)\n",
    "        x = self.fc(x)\n",
    "        return x\n",
    "\n",
    "\n",
    "if __name__ == \"__main__\":\n",
    "    device = torch.device('cuda' if torch.cuda.is_available() else 'cpu')\n",
    "    model = MobileNet(n_channels=3)\n",
    "    model.to(device)\n",
    "    summary(model, input_size=(3,256, 256))"
   ]
  },
  {
   "cell_type": "markdown",
   "id": "a6436beb",
   "metadata": {
    "papermill": {
     "duration": 0.003652,
     "end_time": "2023-10-08T15:50:16.580620",
     "exception": false,
     "start_time": "2023-10-08T15:50:16.576968",
     "status": "completed"
    },
    "tags": []
   },
   "source": [
    "**Unet with Mobilenet**"
   ]
  },
  {
   "cell_type": "code",
   "execution_count": 3,
   "id": "764ec380",
   "metadata": {
    "execution": {
     "iopub.execute_input": "2023-10-08T15:50:16.589299Z",
     "iopub.status.busy": "2023-10-08T15:50:16.589027Z",
     "iopub.status.idle": "2023-10-08T15:50:16.808466Z",
     "shell.execute_reply": "2023-10-08T15:50:16.807648Z"
    },
    "papermill": {
     "duration": 0.227493,
     "end_time": "2023-10-08T15:50:16.811800",
     "exception": false,
     "start_time": "2023-10-08T15:50:16.584307",
     "status": "completed"
    },
    "tags": []
   },
   "outputs": [
    {
     "name": "stdout",
     "output_type": "stream",
     "text": [
      "----------------------------------------------------------------\n",
      "        Layer (type)               Output Shape         Param #\n",
      "================================================================\n",
      "            Conv2d-1         [-1, 32, 256, 256]             864\n",
      "       BatchNorm2d-2         [-1, 32, 256, 256]              64\n",
      "             ReLU6-3         [-1, 32, 256, 256]               0\n",
      "            Conv2d-4         [-1, 32, 256, 256]             288\n",
      "       BatchNorm2d-5         [-1, 32, 256, 256]              64\n",
      "             ReLU6-6         [-1, 32, 256, 256]               0\n",
      "            Conv2d-7         [-1, 64, 256, 256]           2,048\n",
      "       BatchNorm2d-8         [-1, 64, 256, 256]             128\n",
      "             ReLU6-9         [-1, 64, 256, 256]               0\n",
      "           Conv2d-10         [-1, 64, 128, 128]             576\n",
      "      BatchNorm2d-11         [-1, 64, 128, 128]             128\n",
      "            ReLU6-12         [-1, 64, 128, 128]               0\n",
      "           Conv2d-13        [-1, 128, 128, 128]           8,192\n",
      "      BatchNorm2d-14        [-1, 128, 128, 128]             256\n",
      "            ReLU6-15        [-1, 128, 128, 128]               0\n",
      "           Conv2d-16        [-1, 128, 128, 128]           1,152\n",
      "      BatchNorm2d-17        [-1, 128, 128, 128]             256\n",
      "            ReLU6-18        [-1, 128, 128, 128]               0\n",
      "           Conv2d-19        [-1, 128, 128, 128]          16,384\n",
      "      BatchNorm2d-20        [-1, 128, 128, 128]             256\n",
      "            ReLU6-21        [-1, 128, 128, 128]               0\n",
      "           Conv2d-22          [-1, 128, 64, 64]           1,152\n",
      "      BatchNorm2d-23          [-1, 128, 64, 64]             256\n",
      "            ReLU6-24          [-1, 128, 64, 64]               0\n",
      "           Conv2d-25          [-1, 256, 64, 64]          32,768\n",
      "      BatchNorm2d-26          [-1, 256, 64, 64]             512\n",
      "            ReLU6-27          [-1, 256, 64, 64]               0\n",
      "           Conv2d-28          [-1, 256, 64, 64]           2,304\n",
      "      BatchNorm2d-29          [-1, 256, 64, 64]             512\n",
      "            ReLU6-30          [-1, 256, 64, 64]               0\n",
      "           Conv2d-31          [-1, 256, 64, 64]          65,536\n",
      "      BatchNorm2d-32          [-1, 256, 64, 64]             512\n",
      "            ReLU6-33          [-1, 256, 64, 64]               0\n",
      "           Conv2d-34          [-1, 256, 32, 32]           2,304\n",
      "      BatchNorm2d-35          [-1, 256, 32, 32]             512\n",
      "            ReLU6-36          [-1, 256, 32, 32]               0\n",
      "           Conv2d-37          [-1, 512, 32, 32]         131,072\n",
      "      BatchNorm2d-38          [-1, 512, 32, 32]           1,024\n",
      "            ReLU6-39          [-1, 512, 32, 32]               0\n",
      "           Conv2d-40          [-1, 512, 32, 32]           4,608\n",
      "      BatchNorm2d-41          [-1, 512, 32, 32]           1,024\n",
      "            ReLU6-42          [-1, 512, 32, 32]               0\n",
      "           Conv2d-43          [-1, 512, 32, 32]         262,144\n",
      "      BatchNorm2d-44          [-1, 512, 32, 32]           1,024\n",
      "            ReLU6-45          [-1, 512, 32, 32]               0\n",
      "           Conv2d-46          [-1, 512, 32, 32]           4,608\n",
      "      BatchNorm2d-47          [-1, 512, 32, 32]           1,024\n",
      "            ReLU6-48          [-1, 512, 32, 32]               0\n",
      "           Conv2d-49          [-1, 512, 32, 32]         262,144\n",
      "      BatchNorm2d-50          [-1, 512, 32, 32]           1,024\n",
      "            ReLU6-51          [-1, 512, 32, 32]               0\n",
      "           Conv2d-52          [-1, 512, 32, 32]           4,608\n",
      "      BatchNorm2d-53          [-1, 512, 32, 32]           1,024\n",
      "            ReLU6-54          [-1, 512, 32, 32]               0\n",
      "           Conv2d-55          [-1, 512, 32, 32]         262,144\n",
      "      BatchNorm2d-56          [-1, 512, 32, 32]           1,024\n",
      "            ReLU6-57          [-1, 512, 32, 32]               0\n",
      "           Conv2d-58          [-1, 512, 32, 32]           4,608\n",
      "      BatchNorm2d-59          [-1, 512, 32, 32]           1,024\n",
      "            ReLU6-60          [-1, 512, 32, 32]               0\n",
      "           Conv2d-61          [-1, 512, 32, 32]         262,144\n",
      "      BatchNorm2d-62          [-1, 512, 32, 32]           1,024\n",
      "            ReLU6-63          [-1, 512, 32, 32]               0\n",
      "           Conv2d-64          [-1, 512, 32, 32]           4,608\n",
      "      BatchNorm2d-65          [-1, 512, 32, 32]           1,024\n",
      "            ReLU6-66          [-1, 512, 32, 32]               0\n",
      "           Conv2d-67          [-1, 512, 32, 32]         262,144\n",
      "      BatchNorm2d-68          [-1, 512, 32, 32]           1,024\n",
      "            ReLU6-69          [-1, 512, 32, 32]               0\n",
      "           Conv2d-70          [-1, 512, 16, 16]           4,608\n",
      "      BatchNorm2d-71          [-1, 512, 16, 16]           1,024\n",
      "            ReLU6-72          [-1, 512, 16, 16]               0\n",
      "           Conv2d-73         [-1, 1024, 16, 16]         524,288\n",
      "      BatchNorm2d-74         [-1, 1024, 16, 16]           2,048\n",
      "            ReLU6-75         [-1, 1024, 16, 16]               0\n",
      "           Conv2d-76         [-1, 1024, 16, 16]           9,216\n",
      "      BatchNorm2d-77         [-1, 1024, 16, 16]           2,048\n",
      "            ReLU6-78         [-1, 1024, 16, 16]               0\n",
      "           Conv2d-79         [-1, 1024, 16, 16]       1,048,576\n",
      "      BatchNorm2d-80         [-1, 1024, 16, 16]           2,048\n",
      "            ReLU6-81         [-1, 1024, 16, 16]               0\n",
      "        mobilenet-82  [[-1, 256, 64, 64], [-1, 512, 32, 32], [-1, 1024, 16, 16]]               0\n",
      "         Upsample-83         [-1, 1024, 32, 32]               0\n",
      "           Conv2d-84          [-1, 512, 32, 32]       4,719,104\n",
      "      BatchNorm2d-85          [-1, 512, 32, 32]           1,024\n",
      "             ReLU-86          [-1, 512, 32, 32]               0\n",
      "           Conv2d-87          [-1, 512, 32, 32]       2,359,808\n",
      "      BatchNorm2d-88          [-1, 512, 32, 32]           1,024\n",
      "             ReLU-89          [-1, 512, 32, 32]               0\n",
      "       DoubleConv-90          [-1, 512, 32, 32]               0\n",
      "         Upsample-91         [-1, 1024, 64, 64]               0\n",
      "           Conv2d-92          [-1, 256, 64, 64]       2,359,552\n",
      "      BatchNorm2d-93          [-1, 256, 64, 64]             512\n",
      "             ReLU-94          [-1, 256, 64, 64]               0\n",
      "           Conv2d-95          [-1, 256, 64, 64]         590,080\n",
      "      BatchNorm2d-96          [-1, 256, 64, 64]             512\n",
      "             ReLU-97          [-1, 256, 64, 64]               0\n",
      "       DoubleConv-98          [-1, 256, 64, 64]               0\n",
      "         Upsample-99        [-1, 512, 128, 128]               0\n",
      "          Conv2d-100        [-1, 128, 128, 128]         589,952\n",
      "     BatchNorm2d-101        [-1, 128, 128, 128]             256\n",
      "            ReLU-102        [-1, 128, 128, 128]               0\n",
      "          Conv2d-103        [-1, 128, 128, 128]         147,584\n",
      "     BatchNorm2d-104        [-1, 128, 128, 128]             256\n",
      "            ReLU-105        [-1, 128, 128, 128]               0\n",
      "      DoubleConv-106        [-1, 128, 128, 128]               0\n",
      "        Upsample-107        [-1, 128, 256, 256]               0\n",
      "          Conv2d-108         [-1, 64, 256, 256]          73,792\n",
      "     BatchNorm2d-109         [-1, 64, 256, 256]             128\n",
      "            ReLU-110         [-1, 64, 256, 256]               0\n",
      "          Conv2d-111         [-1, 64, 256, 256]          36,928\n",
      "     BatchNorm2d-112         [-1, 64, 256, 256]             128\n",
      "            ReLU-113         [-1, 64, 256, 256]               0\n",
      "      DoubleConv-114         [-1, 64, 256, 256]               0\n",
      "          Conv2d-115          [-1, 1, 256, 256]              65\n",
      "================================================================\n",
      "Total params: 14,087,681\n",
      "Trainable params: 14,087,681\n",
      "Non-trainable params: 0\n",
      "----------------------------------------------------------------\n",
      "Input size (MB): 0.75\n",
      "Forward/backward pass size (MB): 1099511628967.50\n",
      "Params size (MB): 53.74\n",
      "Estimated Total Size (MB): 1099511629021.99\n",
      "----------------------------------------------------------------\n"
     ]
    }
   ],
   "source": [
    "\n",
    "class Down(nn.Module):\n",
    "    \"\"\"Downscaling with maxpool then double conv\"\"\"\n",
    "\n",
    "    def __init__(self, in_channels, out_channels):\n",
    "        super().__init__()\n",
    "        self.maxpool_conv = nn.Sequential(\n",
    "            nn.MaxPool2d(2),\n",
    "            DoubleConv(in_channels, out_channels)\n",
    "        )\n",
    "\n",
    "    def forward(self, x):\n",
    "        return self.maxpool_conv(x)\n",
    "\n",
    "\n",
    "class DoubleConv(nn.Module):\n",
    "    \"\"\"(convolution => [BN] => ReLU) * 2\"\"\"\n",
    "\n",
    "    def __init__(self, in_channels, out_channels, mid_channels=None):\n",
    "        super().__init__()\n",
    "        if not mid_channels:\n",
    "            mid_channels = out_channels\n",
    "        self.double_conv = nn.Sequential(\n",
    "            nn.Conv2d(in_channels, mid_channels, kernel_size=3, padding=1),\n",
    "            nn.BatchNorm2d(mid_channels),\n",
    "            nn.ReLU(inplace=True),\n",
    "            nn.Conv2d(mid_channels, out_channels, kernel_size=3, padding=1),\n",
    "            nn.BatchNorm2d(out_channels),\n",
    "            nn.ReLU(inplace=True)\n",
    "        )\n",
    "\n",
    "    def forward(self, x):\n",
    "        return self.double_conv(x)\n",
    "\n",
    "\n",
    "def conv2d(filter_in, filter_out, kernel_size, groups=1, stride=1):\n",
    "    pad = (kernel_size - 1) // 2 if kernel_size else 0\n",
    "    return nn.Sequential(OrderedDict([\n",
    "        (\"conv\", nn.Conv2d(filter_in, filter_out, kernel_size=kernel_size, stride=stride, padding=pad, groups=groups, bias=False)),\n",
    "        (\"bn\", nn.BatchNorm2d(filter_out)),\n",
    "        (\"relu\", nn.ReLU6(inplace=True)),\n",
    "    ]))\n",
    "\n",
    "\n",
    "class mobilenet(nn.Module):\n",
    "    def __init__(self, n_channels):\n",
    "        super(mobilenet, self).__init__()\n",
    "        self.model = MobileNet(n_channels)\n",
    "\n",
    "    def forward(self, x):\n",
    "        out3 = self.model.layer1(x)\n",
    "        out4 = self.model.layer2(out3)\n",
    "        out5 = self.model.layer3(out4)\n",
    "\n",
    "        return out3, out4, out5\n",
    "\n",
    "\n",
    "class OutConv(nn.Module):\n",
    "    def __init__(self, in_channels, out_channels):\n",
    "        super(OutConv, self).__init__()\n",
    "        self.conv = nn.Conv2d(in_channels, out_channels, kernel_size=1)\n",
    "\n",
    "    def forward(self, x):\n",
    "        return self.conv(x)\n",
    "\n",
    "\n",
    "class UNet(nn.Module):\n",
    "    def __init__(self, n_channels, num_classes):\n",
    "        super(UNet, self).__init__()\n",
    "        self.n_channels = n_channels\n",
    "        self.num_classes = num_classes\n",
    "\n",
    "        # ---------------------------------------------------#\n",
    "        #   64,64,256；32,32,512；16,16,1024\n",
    "        # ---------------------------------------------------#\n",
    "        self.backbone = mobilenet(n_channels)\n",
    "\n",
    "        self.up1 = nn.Upsample(scale_factor=2, mode='nearest')\n",
    "        self.conv1 = DoubleConv(1024, 512)\n",
    "\n",
    "        self.up2 = nn.Upsample(scale_factor=2, mode='nearest')\n",
    "        self.conv2 = DoubleConv(1024, 256)\n",
    "\n",
    "        self.up3 = nn.Upsample(scale_factor=2, mode='nearest')\n",
    "        self.conv3 = DoubleConv(512, 128)\n",
    "\n",
    "        self.up4 = nn.Upsample(scale_factor=2, mode='nearest')\n",
    "        #nn.Upsample(scale_factor=2, mode='bilinear')\n",
    "        self.conv4 = DoubleConv(128, 64)\n",
    "\n",
    "        self.oup = nn.Conv2d(64, num_classes, kernel_size=1)\n",
    "\n",
    "    def forward(self, x):\n",
    "        #  backbone\n",
    "        x2, x1, x0 = self.backbone(x)\n",
    "        # print(f\"x2.shape: {x2.shape}, x1: {x1.shape}, x0: {x0.shape} \")\n",
    "\n",
    "        P5 = self.up1(x0)\n",
    "        P5 = self.conv1(P5)           # P5: 26x26x512\n",
    "        # print(P5.shape)\n",
    "        P4 = x1                       # P4: 26x26x512\n",
    "        P4 = torch.cat([P4, P5], axis=1)   # P4(堆叠后): 26x26x1024\n",
    "        # print(f\"cat 后是： {P4.shape}\")\n",
    "\n",
    "        P4 = self.up2(P4)             # 52x52x1024\n",
    "        P4 = self.conv2(P4)           # 52x52x256\n",
    "        P3 = x2                       # x2 = 52x52x256\n",
    "        P3 = torch.cat([P4, P3], axis=1)  # 52x52x512\n",
    "\n",
    "        P3 = self.up3(P3)\n",
    "        P3 = self.conv3(P3)\n",
    "\n",
    "        P3 = self.up4(P3)\n",
    "        P3 = self.conv4(P3)\n",
    "\n",
    "        out = self.oup(P3)\n",
    "        # print(f\"out.shape is {out.shape}\")\n",
    "\n",
    "        return out\n",
    "    \n",
    "if __name__ == \"__main__\":\n",
    "    device = torch.device('cuda' if torch.cuda.is_available() else 'cpu')\n",
    "    model = UNet(n_channels=3,num_classes=1)\n",
    "    model.to(device)\n",
    "    summary(model, input_size=(3,256, 256))"
   ]
  },
  {
   "cell_type": "markdown",
   "id": "b4ec3bd9",
   "metadata": {
    "papermill": {
     "duration": 0.003941,
     "end_time": "2023-10-08T15:50:16.819937",
     "exception": false,
     "start_time": "2023-10-08T15:50:16.815996",
     "status": "completed"
    },
    "tags": []
   },
   "source": [
    "**Data Loading and Training and Testing Part**"
   ]
  },
  {
   "cell_type": "markdown",
   "id": "31cf8240",
   "metadata": {
    "papermill": {
     "duration": 0.003666,
     "end_time": "2023-10-08T15:50:16.827422",
     "exception": false,
     "start_time": "2023-10-08T15:50:16.823756",
     "status": "completed"
    },
    "tags": []
   },
   "source": [
    "Importing Libraries"
   ]
  },
  {
   "cell_type": "code",
   "execution_count": 4,
   "id": "2aac0c0b",
   "metadata": {
    "execution": {
     "iopub.execute_input": "2023-10-08T15:50:16.836591Z",
     "iopub.status.busy": "2023-10-08T15:50:16.836052Z",
     "iopub.status.idle": "2023-10-08T15:50:18.868212Z",
     "shell.execute_reply": "2023-10-08T15:50:18.867217Z"
    },
    "papermill": {
     "duration": 2.039232,
     "end_time": "2023-10-08T15:50:18.870465",
     "exception": false,
     "start_time": "2023-10-08T15:50:16.831233",
     "status": "completed"
    },
    "tags": []
   },
   "outputs": [
    {
     "name": "stderr",
     "output_type": "stream",
     "text": [
      "/opt/conda/lib/python3.10/site-packages/scipy/__init__.py:146: UserWarning: A NumPy version >=1.16.5 and <1.23.0 is required for this version of SciPy (detected version 1.23.5\n",
      "  warnings.warn(f\"A NumPy version >={np_minversion} and <{np_maxversion}\"\n",
      "/tmp/ipykernel_23/1083700853.py:25: MatplotlibDeprecationWarning: The seaborn styles shipped by Matplotlib are deprecated since 3.6, as they no longer correspond to the styles shipped by seaborn. However, they will remain available as 'seaborn-v0_8-<style>'. Alternatively, directly use the seaborn API instead.\n",
      "  plt.style.use('seaborn-poster')\n"
     ]
    }
   ],
   "source": [
    "import torch\n",
    "import torch.nn as nn\n",
    "import torchvision.transforms.functional as TF\n",
    "import torchvision.models as model\n",
    "import os\n",
    "from PIL import Image\n",
    "from torch.utils.data import Dataset\n",
    "import numpy as np\n",
    "import matplotlib.pyplot as plt\n",
    "import random\n",
    "import torchvision\n",
    "from torch.utils.data import DataLoader\n",
    "import torch\n",
    "import albumentations as A\n",
    "from albumentations.pytorch import ToTensorV2\n",
    "from tqdm import tqdm\n",
    "import torch.nn as nn\n",
    "import torch.optim as optim\n",
    "from numpy import random\n",
    "# !pip install focal_loss_torch\n",
    "# from focal_loss.focal_loss import FocalLoss\n",
    "import numpy as np\n",
    "from mpl_toolkits import mplot3d\n",
    "import matplotlib.pyplot as plt\n",
    "plt.style.use('seaborn-poster')\n",
    "\n",
    "# \n",
    "from torchsummary import summary"
   ]
  },
  {
   "cell_type": "code",
   "execution_count": 5,
   "id": "ee373142",
   "metadata": {
    "execution": {
     "iopub.execute_input": "2023-10-08T15:50:18.880852Z",
     "iopub.status.busy": "2023-10-08T15:50:18.880332Z",
     "iopub.status.idle": "2023-10-08T15:50:19.952619Z",
     "shell.execute_reply": "2023-10-08T15:50:19.951229Z"
    },
    "papermill": {
     "duration": 1.079846,
     "end_time": "2023-10-08T15:50:19.954951",
     "exception": false,
     "start_time": "2023-10-08T15:50:18.875105",
     "status": "completed"
    },
    "tags": []
   },
   "outputs": [],
   "source": [
    "!mkdir output"
   ]
  },
  {
   "cell_type": "code",
   "execution_count": 6,
   "id": "dac39ea5",
   "metadata": {
    "execution": {
     "iopub.execute_input": "2023-10-08T15:50:19.966073Z",
     "iopub.status.busy": "2023-10-08T15:50:19.965334Z",
     "iopub.status.idle": "2023-10-08T15:50:19.979169Z",
     "shell.execute_reply": "2023-10-08T15:50:19.978365Z"
    },
    "papermill": {
     "duration": 0.021605,
     "end_time": "2023-10-08T15:50:19.980875",
     "exception": false,
     "start_time": "2023-10-08T15:50:19.959270",
     "status": "completed"
    },
    "tags": []
   },
   "outputs": [],
   "source": [
    "class SlumDataset(Dataset):\n",
    "  def __init__(self,image_dir,mask_dir,transform = None):\n",
    "    self.image_dir = image_dir\n",
    "    self.mask_dir = mask_dir\n",
    "    self.transform = transform\n",
    "    self.images = os.listdir(image_dir)\n",
    "    self.mask = os.listdir(mask_dir)\n",
    "\n",
    "  def __len__(self):\n",
    "    return len(self.mask)\n",
    "\n",
    "  def __getitem__(self,index):\n",
    "    img_path = os.path.join(self.image_dir,self.images[index])\n",
    "    mask_path = os.path.join(self.mask_dir,self.mask[index])\n",
    "\n",
    "    # img_path = self.image_dir[index]\n",
    "    # mask_path = self.mask_dir[index]\n",
    "\n",
    "    image = np.array(Image.open(img_path))\n",
    "    mask = np.array(Image.open(mask_path), dtype = np.float32)\n",
    "    # mask = np.array(Image.open(mask_path))\n",
    "\n",
    "    mask = (mask//246.0)\n",
    "\n",
    "    if self.transform != None:\n",
    "      augmentations = self.transform(image = image,mask = mask)\n",
    "      image = augmentations[\"image\"]\n",
    "      mask = augmentations[\"mask\"]\n",
    "\n",
    "    return image,mask\n",
    "\n",
    "# def distributeData(train_image,train_mask,train_val):\n",
    "#     images = os.listdir(train_image)\n",
    "#     masks = os.listdir(train_mask)\n",
    "\n",
    "#     for i in range(0,len(images)):\n",
    "#       images[i] = os.path.join(train_image,images[i])\n",
    "\n",
    "#     for i in range(0,len(masks)):\n",
    "#       masks[i] = os.path.join(train_mask,masks[i])\n",
    "\n",
    "\n",
    "#     train_img, valid_img = images[:int(train_val*len(images))], images[int(train_val*len(images)):]\n",
    "#     train_mask,valid_mask = masks[:int(train_val*len(masks))],masks[int(train_val*len(masks)):]\n",
    "\n",
    "#     return train_img,train_mask,valid_img,valid_mask\n",
    "\n",
    "def save_checkpoint(state,filename = \"my_checkpoint.pth.tar\"):\n",
    "  print(\"=> Saving checkpoint\")\n",
    "  torch.save(state,filename)\n",
    "\n",
    "def load_checkpoint(checkpoint,model,optimizer):\n",
    "  print(\"=> Loading checkpoint\")\n",
    "  model.load_state_dict(checkpoint[\"state_dict\"])\n",
    "  optimizer.load_state_dict(checkpoint[\"optimizer\"])\n",
    "\n",
    "def check_accuracy(loader,model,accuracy_vals,device = \"cuda\"):\n",
    "  num_correct = 0\n",
    "  num_pixels = 0\n",
    "  dice_score = 0\n",
    "  model.eval()\n",
    "\n",
    "  with torch.no_grad():\n",
    "    for x,y in loader:\n",
    "      x = x.to(device)\n",
    "      y = y.to(device).unsqueeze(1)\n",
    "      preds = torch.sigmoid(model(x))\n",
    "\n",
    "      preds = (preds > 0.5).float()\n",
    "      num_correct += (preds == y).sum()\n",
    "      num_pixels += torch.numel(preds)\n",
    "      dice_score += (2*(preds*y).sum())/((preds+y).sum() + 1e-8)\n",
    "\n",
    "  accu = (num_correct/num_pixels)*100\n",
    "  print(f\"Got {num_correct}/{num_pixels} with accuracy {accu}\")\n",
    "\n",
    "  # index = accu.cpu().data.numpy().argmax()\n",
    "  print(accu.item())\n",
    "  accuracy_vals.append(accu.item())\n",
    "\n",
    "  print(f\"Dice score: {dice_score/len(loader)}\")\n",
    "  model.train()\n",
    "\n",
    "def save_predictions_as_imgs(loader,model,folder,device = \"cuda\"):\n",
    "  model.eval()\n",
    "  for idx, (x,y) in enumerate(loader):\n",
    "    x = x.to(device = device)\n",
    "\n",
    "    with torch.no_grad():\n",
    "      preds = torch.sigmoid(model(x))\n",
    "      preds = (preds > 0.5).float()\n",
    "\n",
    "    torchvision.utils.save_image(preds,f\"{folder}/pred_{idx}.jpg\")\n",
    "    torchvision.utils.save_image(y.unsqueeze(1),f\"{folder}/{idx}.jpg\")\n",
    "\n",
    "  model.train()\n",
    "\n",
    "\n",
    "def my_plot(epochs, loss):\n",
    "  plt.xlabel(\"losses\")\n",
    "  plt.ylabel(\"Num of epochs\")\n",
    "  plt.plot(epochs, loss)"
   ]
  },
  {
   "cell_type": "code",
   "execution_count": 7,
   "id": "30420773",
   "metadata": {
    "execution": {
     "iopub.execute_input": "2023-10-08T15:50:19.990212Z",
     "iopub.status.busy": "2023-10-08T15:50:19.989802Z",
     "iopub.status.idle": "2023-10-08T15:50:19.995446Z",
     "shell.execute_reply": "2023-10-08T15:50:19.994538Z"
    },
    "papermill": {
     "duration": 0.012221,
     "end_time": "2023-10-08T15:50:19.997140",
     "exception": false,
     "start_time": "2023-10-08T15:50:19.984919",
     "status": "completed"
    },
    "tags": []
   },
   "outputs": [],
   "source": [
    "def get_loaders(\n",
    "    train_dir,\n",
    "    train_mask_dir,\n",
    "    val_dir,\n",
    "    val_mask_dir,\n",
    "    batch_size,\n",
    "    train_transform,\n",
    "    val_transform,\n",
    "    train_val,\n",
    "    num_workers = 2,\n",
    "    pin_memory = True,\n",
    "):\n",
    "\n",
    "  # train_img,train_mask,val_img,val_mask = distributeData(train_dir,train_maskdir,train_val)\n",
    "\n",
    "  train_ds = SlumDataset(\n",
    "      image_dir = train_dir,\n",
    "      mask_dir = train_mask_dir,\n",
    "      transform = train_transform\n",
    "  )\n",
    "\n",
    "  train_loader = DataLoader(\n",
    "      train_ds,\n",
    "      batch_size = batch_size,\n",
    "      num_workers = num_workers,\n",
    "      pin_memory = pin_memory,\n",
    "      shuffle = True,\n",
    "  )\n",
    "\n",
    "  val_ds = SlumDataset(\n",
    "      image_dir = val_dir,\n",
    "      mask_dir = val_mask_dir,\n",
    "      transform = val_transform\n",
    "  )\n",
    "\n",
    "  val_loader = DataLoader(\n",
    "      val_ds,\n",
    "      batch_size = batch_size,\n",
    "      num_workers = num_workers,\n",
    "      pin_memory = pin_memory,\n",
    "      shuffle = False,\n",
    "  )\n",
    "\n",
    "  return train_loader, val_loader\n"
   ]
  },
  {
   "cell_type": "code",
   "execution_count": 8,
   "id": "aeb826a1",
   "metadata": {
    "execution": {
     "iopub.execute_input": "2023-10-08T15:50:20.006141Z",
     "iopub.status.busy": "2023-10-08T15:50:20.005796Z",
     "iopub.status.idle": "2023-10-08T15:50:20.010776Z",
     "shell.execute_reply": "2023-10-08T15:50:20.009881Z"
    },
    "papermill": {
     "duration": 0.011443,
     "end_time": "2023-10-08T15:50:20.012474",
     "exception": false,
     "start_time": "2023-10-08T15:50:20.001031",
     "status": "completed"
    },
    "tags": []
   },
   "outputs": [],
   "source": [
    "# Hyperparameters\n",
    "# LEARNING_RATE = [1e-4,1e-3,1e-2]\n",
    "LEARNING_RATE = 1e-4\n",
    "DEVICE = \"cuda\" if torch.cuda.is_available() else \"cpu\"\n",
    "device = \"cuda\" if torch.cuda.is_available() else \"cpu\"\n",
    "BATCH_SIZE = 16\n",
    "NUM_EPOCHS = 15\n",
    "NUM_WORKERS = 2\n",
    "train_val = 0.8\n",
    "IMAGE_HEIGHT = 256\n",
    "IMAGE_WIDTH = 256\n",
    "train_valid = 0.8\n",
    "PIN_MEMORY = True\n",
    "LOAD_MODEL = True\n",
    "TRAIN_IMG_DIR = '/kaggle/input/slum-dataset/train_img/train_img'\n",
    "TRAIN_MASK_DIR = '/kaggle/input/slum-dataset/train_mask-20230822T130205Z-001/train_mask'\n",
    "val_dir = '/kaggle/input/slum-dataset/val_img-20230822T130211Z-001/val_img'\n",
    "val_mask_dir = '/kaggle/input/slum-dataset/val_mask-20230822T130216Z-001/val_mask'\n",
    "saved_folder = '/kaggle/working/'"
   ]
  },
  {
   "cell_type": "code",
   "execution_count": 9,
   "id": "636dfcb0",
   "metadata": {
    "execution": {
     "iopub.execute_input": "2023-10-08T15:50:20.021612Z",
     "iopub.status.busy": "2023-10-08T15:50:20.021373Z",
     "iopub.status.idle": "2023-10-08T15:50:20.031394Z",
     "shell.execute_reply": "2023-10-08T15:50:20.030594Z"
    },
    "papermill": {
     "duration": 0.016629,
     "end_time": "2023-10-08T15:50:20.033072",
     "exception": false,
     "start_time": "2023-10-08T15:50:20.016443",
     "status": "completed"
    },
    "tags": []
   },
   "outputs": [],
   "source": [
    "from sklearn.metrics import precision_score\n",
    "from sklearn.metrics import recall_score\n",
    "from sklearn.metrics import f1_score\n",
    "def train_fn(epoch,num_epochs,loader,model,optimizer,loss_fn,scaler,iou_train,precision_train,recall_train,f1_train,loss_train,accuracy_train):\n",
    "  total_loss = 0.0\n",
    "  total_iou = 0.0\n",
    "  total_precision = 0.0\n",
    "  total_recall = 0.0\n",
    "  total_f1 = 0.0\n",
    "  total_accuracy = 0.0\n",
    "\n",
    "  length = len(loader);\n",
    "  loop = tqdm(loader)\n",
    "\n",
    "  for batch_idx, (data,targets) in enumerate(loop):\n",
    "    data = data.to(device = device)\n",
    "    targets = targets.float().unsqueeze(1).to(device = device)\n",
    "    targ = targets\n",
    "\n",
    "    # forward\n",
    "    with torch.cuda.amp.autocast():\n",
    "      predictions = torch.sigmoid(model(data))\n",
    "\n",
    "      loss = loss_fn(predictions,targets)\n",
    "      total_loss += loss.item()\n",
    "\n",
    "      # convert model outputs to binary mask using sigmoid and threshold\n",
    "      predicted_masks = predictions\n",
    "      predicted_masks = (predicted_masks > 0.5).float()\n",
    "\n",
    "      preds = predicted_masks.cpu().numpy()\n",
    "      yy = targ.cpu().numpy()\n",
    "\n",
    "      # Calculate the intersection and union of the binary masks\n",
    "      intersection = np.sum(preds * yy)\n",
    "      union = np.sum(np.logical_or(preds, yy))\n",
    "      iou = intersection / union\n",
    "\n",
    "      precision = precision_score(yy.flatten(), preds.flatten())\n",
    "      recall = recall_score(yy.flatten(), preds.flatten())\n",
    "      f1 = f1_score(yy.flatten(), preds.flatten())\n",
    "      accuracy = np.mean(yy.flatten() == preds.flatten())\n",
    "\n",
    "      total_iou += iou\n",
    "      total_precision += precision\n",
    "      total_recall += recall\n",
    "      total_f1 += f1\n",
    "      total_accuracy += accuracy\n",
    "\n",
    "    # backward\n",
    "    optimizer.zero_grad()\n",
    "    scaler.scale(loss).backward()\n",
    "    scaler.step(optimizer)\n",
    "    scaler.update()\n",
    "\n",
    "    # update tqdm loop\n",
    "    loop.set_postfix(loss = loss.item())\n",
    "\n",
    "  average_loss = total_loss / length\n",
    "  average_iou = total_iou / length\n",
    "  average_precision = total_precision / length\n",
    "  average_recall = total_recall / length\n",
    "  average_f1 = total_f1 / length\n",
    "  average_accuracy = accuracy /length\n",
    "\n",
    "  # Append metrics and losses to lists for plotting\n",
    "  loss_train.append(average_loss)\n",
    "  iou_train.append(average_iou)\n",
    "  precision_train.append(average_precision)\n",
    "  recall_train.append(average_recall)\n",
    "  f1_train.append(average_f1)\n",
    "  accuracy_train.append(average_accuracy)\n",
    "\n",
    "  print(f\"Epoch [{epoch+1}/{num_epochs}], \"\n",
    "          f\"Loss: {average_loss:.4f}, \"\n",
    "          f\"IoU: {average_iou:.4f}, \"\n",
    "          f\"Precision: {average_precision:.4f}, \"\n",
    "          f\"Recall: {average_recall:.4f}, \"\n",
    "          f\"F1: {average_f1:.4f},\"\n",
    "          f\"Accuracy: {average_accuracy:4f}\"\n",
    "  )"
   ]
  },
  {
   "cell_type": "code",
   "execution_count": 10,
   "id": "05282a05",
   "metadata": {
    "execution": {
     "iopub.execute_input": "2023-10-08T15:50:20.042470Z",
     "iopub.status.busy": "2023-10-08T15:50:20.041940Z",
     "iopub.status.idle": "2023-10-08T15:50:20.052398Z",
     "shell.execute_reply": "2023-10-08T15:50:20.051610Z"
    },
    "papermill": {
     "duration": 0.017045,
     "end_time": "2023-10-08T15:50:20.054091",
     "exception": false,
     "start_time": "2023-10-08T15:50:20.037046",
     "status": "completed"
    },
    "tags": []
   },
   "outputs": [],
   "source": [
    "def dice_coefficient(predicted_mask, ground_truth_mask):\n",
    "  intersection = np.sum(predicted_mask * ground_truth_mask)\n",
    "  predicted_area = np.sum(predicted_mask)\n",
    "  ground_truth_area = np.sum(ground_truth_mask)\n",
    "\n",
    "  dice = (2.0 * intersection) / (predicted_area + ground_truth_area)\n",
    "  return dice\n",
    "\n",
    "def check_accuracy(loader,model,accuracy_vals,dice_scores,iou_scores,precision_scores,recall_scores,f1_val,device = \"cuda\"):\n",
    "  num_correct = 0\n",
    "  num_pixels = 0\n",
    "  dice_s = []\n",
    "  precision_s = []\n",
    "  f1_s = []\n",
    "  iou_s = []\n",
    "  recall_s = []\n",
    "  accuracy_s = []\n",
    "  model.eval()\n",
    "\n",
    "  with torch.no_grad():\n",
    "    for x,y in loader:\n",
    "      x = x.to(device)\n",
    "      y = y.to(device).unsqueeze(1)\n",
    "      pred = torch.sigmoid(model(x))\n",
    "\n",
    "      pred = (pred > 0.5).float()\n",
    "      num_correct += (pred == y).sum()\n",
    "      num_pixels += torch.numel(pred)\n",
    "      preds = pred.cpu().numpy()\n",
    "      yy = y.cpu().numpy()\n",
    "\n",
    "      for pred_mask, gt_mask in zip(preds, yy):\n",
    "        # Flatten the binary masks for precision calculation\n",
    "        pred_mask_flat = pred_mask.flatten()\n",
    "        gt_mask_flat = gt_mask.flatten()\n",
    "\n",
    "        # Calculate recall score for the current mask\n",
    "        recall = recall_score(gt_mask_flat, pred_mask_flat)\n",
    "        recall_s.append(recall)\n",
    "\n",
    "        # Calculate precision for the current mask\n",
    "        precision = precision_score(gt_mask_flat, pred_mask_flat)\n",
    "        precision_s.append(precision)\n",
    "\n",
    "        # Calculate F1 score for the current mask\n",
    "        f1 = f1_score(gt_mask_flat, pred_mask_flat)\n",
    "        f1_s.append(f1)\n",
    "\n",
    "        # Calculate the intersection and union of the binary masks\n",
    "        intersection = np.sum(pred_mask * gt_mask)\n",
    "        union = np.sum(np.logical_or(pred_mask, gt_mask))\n",
    "\n",
    "        # Calculate IoU for the current mask\n",
    "        iou = intersection / union\n",
    "        iou_s.append(iou)\n",
    "\n",
    "        # Calculate Accuarcy for the current mask\n",
    "        accuracy = np.mean(gt_mask_flat == pred_mask_flat)\n",
    "        accuracy_s.append(accuracy)\n",
    "\n",
    "        dice_score = dice_coefficient(pred_mask, gt_mask)\n",
    "        dice_s.append(dice_score)\n",
    "\n",
    "  accu = (num_correct/num_pixels)*100\n",
    "  print(f\"Got {num_correct}/{num_pixels} with accuracy {accu}\")\n",
    "\n",
    "  # Calculate the average precision over the validation dataset\n",
    "  average_precision = np.mean(precision_s)\n",
    "  print(f\"Average Precision: {average_precision:.4f}\")\n",
    "\n",
    "  #Calculate the average accuracy over the validation dataset\n",
    "  accuracy_vals.append(np.mean(accuracy_s))\n",
    "  print(f'Accuracy: {np.mean(accuracy_s)}')\n",
    "\n",
    "  # Calculate the average Dice score over the validation dataset\n",
    "  average_dice = np.mean(dice_s)\n",
    "  print(f\"Average Dice Score: {average_dice:.4f}\")\n",
    "\n",
    "  # Calculate the average F1 score over the validation dataset\n",
    "  average_f1 = np.mean(f1_s)\n",
    "  print(f\"Average F1 Score: {average_f1:.4f}\")\n",
    "\n",
    "  # Calculate the average IoU score over the validation dataset\n",
    "  average_iou = np.mean(iou_s)\n",
    "  print(f\"Average IoU Score: {average_iou:.4f}\")\n",
    "\n",
    "  # Calculate average metrics for the epoch\n",
    "  iou_scores.append(average_iou)\n",
    "  precision_scores.append(average_precision)\n",
    "  recall_scores.append(np.mean(recall_s))\n",
    "  f1_val.append(average_f1)\n",
    "  dice_scores.append(average_dice)\n",
    "\n",
    "  model.train()"
   ]
  },
  {
   "cell_type": "code",
   "execution_count": 11,
   "id": "7641da46",
   "metadata": {
    "execution": {
     "iopub.execute_input": "2023-10-08T15:50:20.063649Z",
     "iopub.status.busy": "2023-10-08T15:50:20.062905Z",
     "iopub.status.idle": "2023-10-08T15:50:20.070169Z",
     "shell.execute_reply": "2023-10-08T15:50:20.069399Z"
    },
    "papermill": {
     "duration": 0.013722,
     "end_time": "2023-10-08T15:50:20.071800",
     "exception": false,
     "start_time": "2023-10-08T15:50:20.058078",
     "status": "completed"
    },
    "tags": []
   },
   "outputs": [],
   "source": [
    "def func(NUM_EPOCHS,loss_train,iou_train,precision_train,recall_train,f1_train,iou_scores,precision_scores,recall_scores, f1_val,dice_scores, accuracy_vals):\n",
    "  epochs = np.arange(1, NUM_EPOCHS + 1)\n",
    "  plt.figure(figsize=(12, 8))\n",
    "\n",
    "  plt.plot(epochs, loss_train, label='Train_Loss')\n",
    "  plt.plot(epochs, iou_train, label='Train_IoU')\n",
    "  plt.plot(epochs, precision_train, label='Train_Precision')\n",
    "  plt.plot(epochs, recall_train, label='Train_Recall')\n",
    "  plt.plot(epochs, f1_train, label='Train_F1')\n",
    "  # plt.plot(epochs, accuracy_train, label='Train_Accuracy')\n",
    "\n",
    "  plt.xlabel('Train_Epoch')\n",
    "  plt.ylabel('Score / Loss')\n",
    "  plt.title('Training Metrics and Losses Over Epochs')\n",
    "  plt.legend()\n",
    "  plt.grid()\n",
    "\n",
    "  plt.show()\n",
    "\n",
    "  # PLot validation metrics\n",
    "  plt.figure(figsize=(12, 8))\n",
    "\n",
    "  plt.plot(epochs, iou_scores, label='validation_IoU')\n",
    "  plt.plot(epochs, precision_scores, label='validation_Precision')\n",
    "  plt.plot(epochs, recall_scores, label='validation_Recall')\n",
    "  plt.plot(epochs, f1_val, label='validation_F1')\n",
    "  plt.plot(epochs, dice_scores, label='validation_Dice')\n",
    "  plt.plot(epochs,accuracy_vals,label = \"validation_Accuracy\")\n",
    "\n",
    "  plt.xlabel('validation_Epoch')\n",
    "  plt.ylabel('Score')\n",
    "  plt.title('Validation Metrics Over Epochs')\n",
    "  plt.legend()\n",
    "  plt.grid()\n",
    "\n",
    "  plt.show()"
   ]
  },
  {
   "cell_type": "code",
   "execution_count": 12,
   "id": "fb197d3b",
   "metadata": {
    "execution": {
     "iopub.execute_input": "2023-10-08T15:50:20.081110Z",
     "iopub.status.busy": "2023-10-08T15:50:20.080576Z",
     "iopub.status.idle": "2023-10-08T18:42:39.450120Z",
     "shell.execute_reply": "2023-10-08T18:42:39.449098Z"
    },
    "papermill": {
     "duration": 10339.376545,
     "end_time": "2023-10-08T18:42:39.452301",
     "exception": false,
     "start_time": "2023-10-08T15:50:20.075756",
     "status": "completed"
    },
    "tags": []
   },
   "outputs": [
    {
     "name": "stderr",
     "output_type": "stream",
     "text": [
      "/opt/conda/lib/python3.10/site-packages/torch/optim/lr_scheduler.py:139: UserWarning: Detected call of `lr_scheduler.step()` before `optimizer.step()`. In PyTorch 1.1.0 and later, you should call them in the opposite order: `optimizer.step()` before `lr_scheduler.step()`.  Failure to do this will result in PyTorch skipping the first value of the learning rate schedule. See more details at https://pytorch.org/docs/stable/optim.html#how-to-adjust-learning-rate\n",
      "  warnings.warn(\"Detected call of `lr_scheduler.step()` before `optimizer.step()`. \"\n",
      "100%|██████████| 178/178 [08:35<00:00,  2.90s/it, loss=0.662]\n"
     ]
    },
    {
     "name": "stdout",
     "output_type": "stream",
     "text": [
      "Epoch [1/15], Loss: 0.7374, IoU: 0.4207, Precision: 0.6492, Recall: 0.5581, F1: 0.5887,Accuracy: 0.003706\n",
      "=> Saving checkpoint\n"
     ]
    },
    {
     "name": "stderr",
     "output_type": "stream",
     "text": [
      "/opt/conda/lib/python3.10/site-packages/sklearn/metrics/_classification.py:1344: UndefinedMetricWarning: Precision is ill-defined and being set to 0.0 due to no predicted samples. Use `zero_division` parameter to control this behavior.\n",
      "  _warn_prf(average, modifier, msg_start, len(result))\n",
      "/opt/conda/lib/python3.10/site-packages/sklearn/metrics/_classification.py:1344: UndefinedMetricWarning: Precision is ill-defined and being set to 0.0 due to no predicted samples. Use `zero_division` parameter to control this behavior.\n",
      "  _warn_prf(average, modifier, msg_start, len(result))\n",
      "/opt/conda/lib/python3.10/site-packages/sklearn/metrics/_classification.py:1344: UndefinedMetricWarning: Precision is ill-defined and being set to 0.0 due to no predicted samples. Use `zero_division` parameter to control this behavior.\n",
      "  _warn_prf(average, modifier, msg_start, len(result))\n",
      "/opt/conda/lib/python3.10/site-packages/sklearn/metrics/_classification.py:1344: UndefinedMetricWarning: Precision is ill-defined and being set to 0.0 due to no predicted samples. Use `zero_division` parameter to control this behavior.\n",
      "  _warn_prf(average, modifier, msg_start, len(result))\n",
      "/opt/conda/lib/python3.10/site-packages/sklearn/metrics/_classification.py:1344: UndefinedMetricWarning: Precision is ill-defined and being set to 0.0 due to no predicted samples. Use `zero_division` parameter to control this behavior.\n",
      "  _warn_prf(average, modifier, msg_start, len(result))\n",
      "/opt/conda/lib/python3.10/site-packages/sklearn/metrics/_classification.py:1344: UndefinedMetricWarning: Precision is ill-defined and being set to 0.0 due to no predicted samples. Use `zero_division` parameter to control this behavior.\n",
      "  _warn_prf(average, modifier, msg_start, len(result))\n",
      "/opt/conda/lib/python3.10/site-packages/sklearn/metrics/_classification.py:1344: UndefinedMetricWarning: Precision is ill-defined and being set to 0.0 due to no predicted samples. Use `zero_division` parameter to control this behavior.\n",
      "  _warn_prf(average, modifier, msg_start, len(result))\n",
      "/opt/conda/lib/python3.10/site-packages/sklearn/metrics/_classification.py:1344: UndefinedMetricWarning: Precision is ill-defined and being set to 0.0 due to no predicted samples. Use `zero_division` parameter to control this behavior.\n",
      "  _warn_prf(average, modifier, msg_start, len(result))\n",
      "/opt/conda/lib/python3.10/site-packages/sklearn/metrics/_classification.py:1344: UndefinedMetricWarning: Precision is ill-defined and being set to 0.0 due to no predicted samples. Use `zero_division` parameter to control this behavior.\n",
      "  _warn_prf(average, modifier, msg_start, len(result))\n",
      "/opt/conda/lib/python3.10/site-packages/sklearn/metrics/_classification.py:1344: UndefinedMetricWarning: Precision is ill-defined and being set to 0.0 due to no predicted samples. Use `zero_division` parameter to control this behavior.\n",
      "  _warn_prf(average, modifier, msg_start, len(result))\n",
      "/opt/conda/lib/python3.10/site-packages/sklearn/metrics/_classification.py:1344: UndefinedMetricWarning: Precision is ill-defined and being set to 0.0 due to no predicted samples. Use `zero_division` parameter to control this behavior.\n",
      "  _warn_prf(average, modifier, msg_start, len(result))\n",
      "/opt/conda/lib/python3.10/site-packages/sklearn/metrics/_classification.py:1344: UndefinedMetricWarning: Precision is ill-defined and being set to 0.0 due to no predicted samples. Use `zero_division` parameter to control this behavior.\n",
      "  _warn_prf(average, modifier, msg_start, len(result))\n",
      "/opt/conda/lib/python3.10/site-packages/sklearn/metrics/_classification.py:1344: UndefinedMetricWarning: Precision is ill-defined and being set to 0.0 due to no predicted samples. Use `zero_division` parameter to control this behavior.\n",
      "  _warn_prf(average, modifier, msg_start, len(result))\n",
      "/opt/conda/lib/python3.10/site-packages/sklearn/metrics/_classification.py:1344: UndefinedMetricWarning: Precision is ill-defined and being set to 0.0 due to no predicted samples. Use `zero_division` parameter to control this behavior.\n",
      "  _warn_prf(average, modifier, msg_start, len(result))\n",
      "/opt/conda/lib/python3.10/site-packages/sklearn/metrics/_classification.py:1344: UndefinedMetricWarning: Precision is ill-defined and being set to 0.0 due to no predicted samples. Use `zero_division` parameter to control this behavior.\n",
      "  _warn_prf(average, modifier, msg_start, len(result))\n",
      "/opt/conda/lib/python3.10/site-packages/sklearn/metrics/_classification.py:1344: UndefinedMetricWarning: Precision is ill-defined and being set to 0.0 due to no predicted samples. Use `zero_division` parameter to control this behavior.\n",
      "  _warn_prf(average, modifier, msg_start, len(result))\n",
      "/opt/conda/lib/python3.10/site-packages/sklearn/metrics/_classification.py:1344: UndefinedMetricWarning: Precision is ill-defined and being set to 0.0 due to no predicted samples. Use `zero_division` parameter to control this behavior.\n",
      "  _warn_prf(average, modifier, msg_start, len(result))\n",
      "/opt/conda/lib/python3.10/site-packages/sklearn/metrics/_classification.py:1344: UndefinedMetricWarning: Precision is ill-defined and being set to 0.0 due to no predicted samples. Use `zero_division` parameter to control this behavior.\n",
      "  _warn_prf(average, modifier, msg_start, len(result))\n",
      "/opt/conda/lib/python3.10/site-packages/sklearn/metrics/_classification.py:1344: UndefinedMetricWarning: Precision is ill-defined and being set to 0.0 due to no predicted samples. Use `zero_division` parameter to control this behavior.\n",
      "  _warn_prf(average, modifier, msg_start, len(result))\n",
      "/opt/conda/lib/python3.10/site-packages/sklearn/metrics/_classification.py:1344: UndefinedMetricWarning: Precision is ill-defined and being set to 0.0 due to no predicted samples. Use `zero_division` parameter to control this behavior.\n",
      "  _warn_prf(average, modifier, msg_start, len(result))\n",
      "/opt/conda/lib/python3.10/site-packages/sklearn/metrics/_classification.py:1344: UndefinedMetricWarning: Precision is ill-defined and being set to 0.0 due to no predicted samples. Use `zero_division` parameter to control this behavior.\n",
      "  _warn_prf(average, modifier, msg_start, len(result))\n",
      "/opt/conda/lib/python3.10/site-packages/sklearn/metrics/_classification.py:1344: UndefinedMetricWarning: Precision is ill-defined and being set to 0.0 due to no predicted samples. Use `zero_division` parameter to control this behavior.\n",
      "  _warn_prf(average, modifier, msg_start, len(result))\n",
      "/opt/conda/lib/python3.10/site-packages/sklearn/metrics/_classification.py:1344: UndefinedMetricWarning: Precision is ill-defined and being set to 0.0 due to no predicted samples. Use `zero_division` parameter to control this behavior.\n",
      "  _warn_prf(average, modifier, msg_start, len(result))\n",
      "/opt/conda/lib/python3.10/site-packages/sklearn/metrics/_classification.py:1344: UndefinedMetricWarning: Precision is ill-defined and being set to 0.0 due to no predicted samples. Use `zero_division` parameter to control this behavior.\n",
      "  _warn_prf(average, modifier, msg_start, len(result))\n",
      "/opt/conda/lib/python3.10/site-packages/sklearn/metrics/_classification.py:1344: UndefinedMetricWarning: Precision is ill-defined and being set to 0.0 due to no predicted samples. Use `zero_division` parameter to control this behavior.\n",
      "  _warn_prf(average, modifier, msg_start, len(result))\n"
     ]
    },
    {
     "name": "stdout",
     "output_type": "stream",
     "text": [
      "Got 39469246/46530560 with accuracy 84.82435607910156\n",
      "Average Precision: 0.5137\n",
      "Accuracy: 0.8482435199576365\n",
      "Average Dice Score: 0.4723\n",
      "Average F1 Score: 0.4723\n",
      "Average IoU Score: 0.3528\n"
     ]
    },
    {
     "name": "stderr",
     "output_type": "stream",
     "text": [
      "100%|██████████| 178/178 [08:41<00:00,  2.93s/it, loss=0.723]\n"
     ]
    },
    {
     "name": "stdout",
     "output_type": "stream",
     "text": [
      "Epoch [2/15], Loss: 0.6998, IoU: 0.4636, Precision: 0.7872, Recall: 0.5354, F1: 0.6315,Accuracy: 0.004993\n",
      "=> Saving checkpoint\n"
     ]
    },
    {
     "name": "stderr",
     "output_type": "stream",
     "text": [
      "/opt/conda/lib/python3.10/site-packages/sklearn/metrics/_classification.py:1344: UndefinedMetricWarning: Precision is ill-defined and being set to 0.0 due to no predicted samples. Use `zero_division` parameter to control this behavior.\n",
      "  _warn_prf(average, modifier, msg_start, len(result))\n",
      "/opt/conda/lib/python3.10/site-packages/sklearn/metrics/_classification.py:1344: UndefinedMetricWarning: Precision is ill-defined and being set to 0.0 due to no predicted samples. Use `zero_division` parameter to control this behavior.\n",
      "  _warn_prf(average, modifier, msg_start, len(result))\n",
      "/opt/conda/lib/python3.10/site-packages/sklearn/metrics/_classification.py:1344: UndefinedMetricWarning: Precision is ill-defined and being set to 0.0 due to no predicted samples. Use `zero_division` parameter to control this behavior.\n",
      "  _warn_prf(average, modifier, msg_start, len(result))\n",
      "/opt/conda/lib/python3.10/site-packages/sklearn/metrics/_classification.py:1344: UndefinedMetricWarning: Precision is ill-defined and being set to 0.0 due to no predicted samples. Use `zero_division` parameter to control this behavior.\n",
      "  _warn_prf(average, modifier, msg_start, len(result))\n",
      "/opt/conda/lib/python3.10/site-packages/sklearn/metrics/_classification.py:1344: UndefinedMetricWarning: Precision is ill-defined and being set to 0.0 due to no predicted samples. Use `zero_division` parameter to control this behavior.\n",
      "  _warn_prf(average, modifier, msg_start, len(result))\n",
      "/opt/conda/lib/python3.10/site-packages/sklearn/metrics/_classification.py:1344: UndefinedMetricWarning: Precision is ill-defined and being set to 0.0 due to no predicted samples. Use `zero_division` parameter to control this behavior.\n",
      "  _warn_prf(average, modifier, msg_start, len(result))\n"
     ]
    },
    {
     "name": "stdout",
     "output_type": "stream",
     "text": [
      "Got 39373124/46530560 with accuracy 84.61776733398438\n",
      "Average Precision: 0.5321\n",
      "Accuracy: 0.8461777378136004\n",
      "Average Dice Score: 0.5839\n",
      "Average F1 Score: 0.5839\n",
      "Average IoU Score: 0.4471\n"
     ]
    },
    {
     "name": "stderr",
     "output_type": "stream",
     "text": [
      "100%|██████████| 178/178 [09:08<00:00,  3.08s/it, loss=0.63]\n"
     ]
    },
    {
     "name": "stdout",
     "output_type": "stream",
     "text": [
      "Epoch [3/15], Loss: 0.6850, IoU: 0.4706, Precision: 0.8111, Recall: 0.5333, F1: 0.6382,Accuracy: 0.004205\n",
      "=> Saving checkpoint\n",
      "Got 39199963/46530560 with accuracy 84.2456283569336\n",
      "Average Precision: 0.5245\n",
      "Accuracy: 0.8424562910912742\n",
      "Average Dice Score: 0.6258\n",
      "Average F1 Score: 0.6258\n",
      "Average IoU Score: 0.4818\n"
     ]
    },
    {
     "name": "stderr",
     "output_type": "stream",
     "text": [
      "100%|██████████| 178/178 [09:07<00:00,  3.08s/it, loss=0.673]\n"
     ]
    },
    {
     "name": "stdout",
     "output_type": "stream",
     "text": [
      "Epoch [4/15], Loss: 0.6783, IoU: 0.4905, Precision: 0.8091, Recall: 0.5593, F1: 0.6561,Accuracy: 0.004541\n",
      "=> Saving checkpoint\n"
     ]
    },
    {
     "name": "stderr",
     "output_type": "stream",
     "text": [
      "/opt/conda/lib/python3.10/site-packages/sklearn/metrics/_classification.py:1344: UndefinedMetricWarning: Precision is ill-defined and being set to 0.0 due to no predicted samples. Use `zero_division` parameter to control this behavior.\n",
      "  _warn_prf(average, modifier, msg_start, len(result))\n"
     ]
    },
    {
     "name": "stdout",
     "output_type": "stream",
     "text": [
      "Got 41241811/46530560 with accuracy 88.63381958007812\n",
      "Average Precision: 0.6341\n",
      "Accuracy: 0.8863381614147777\n",
      "Average Dice Score: 0.6347\n",
      "Average F1 Score: 0.6347\n",
      "Average IoU Score: 0.5006\n"
     ]
    },
    {
     "name": "stderr",
     "output_type": "stream",
     "text": [
      "100%|██████████| 178/178 [08:54<00:00,  3.00s/it, loss=0.659]\n"
     ]
    },
    {
     "name": "stdout",
     "output_type": "stream",
     "text": [
      "Epoch [5/15], Loss: 0.6767, IoU: 0.4892, Precision: 0.8184, Recall: 0.5532, F1: 0.6549,Accuracy: 0.004565\n",
      "=> Saving checkpoint\n"
     ]
    },
    {
     "name": "stderr",
     "output_type": "stream",
     "text": [
      "/opt/conda/lib/python3.10/site-packages/sklearn/metrics/_classification.py:1344: UndefinedMetricWarning: Precision is ill-defined and being set to 0.0 due to no predicted samples. Use `zero_division` parameter to control this behavior.\n",
      "  _warn_prf(average, modifier, msg_start, len(result))\n",
      "/opt/conda/lib/python3.10/site-packages/sklearn/metrics/_classification.py:1344: UndefinedMetricWarning: Precision is ill-defined and being set to 0.0 due to no predicted samples. Use `zero_division` parameter to control this behavior.\n",
      "  _warn_prf(average, modifier, msg_start, len(result))\n"
     ]
    },
    {
     "name": "stdout",
     "output_type": "stream",
     "text": [
      "Got 41749470/46530560 with accuracy 89.72483825683594\n",
      "Average Precision: 0.6757\n",
      "Accuracy: 0.897248389015735\n",
      "Average Dice Score: 0.6326\n",
      "Average F1 Score: 0.6326\n",
      "Average IoU Score: 0.5010\n"
     ]
    },
    {
     "name": "stderr",
     "output_type": "stream",
     "text": [
      "100%|██████████| 178/178 [09:03<00:00,  3.05s/it, loss=0.681]\n"
     ]
    },
    {
     "name": "stdout",
     "output_type": "stream",
     "text": [
      "Epoch [6/15], Loss: 0.6762, IoU: 0.4903, Precision: 0.8161, Recall: 0.5560, F1: 0.6560,Accuracy: 0.004904\n",
      "=> Saving checkpoint\n"
     ]
    },
    {
     "name": "stderr",
     "output_type": "stream",
     "text": [
      "/opt/conda/lib/python3.10/site-packages/sklearn/metrics/_classification.py:1344: UndefinedMetricWarning: Precision is ill-defined and being set to 0.0 due to no predicted samples. Use `zero_division` parameter to control this behavior.\n",
      "  _warn_prf(average, modifier, msg_start, len(result))\n"
     ]
    },
    {
     "name": "stdout",
     "output_type": "stream",
     "text": [
      "Got 41139884/46530560 with accuracy 88.41475677490234\n",
      "Average Precision: 0.6285\n",
      "Accuracy: 0.8841476225517165\n",
      "Average Dice Score: 0.6336\n",
      "Average F1 Score: 0.6336\n",
      "Average IoU Score: 0.4983\n"
     ]
    },
    {
     "name": "stderr",
     "output_type": "stream",
     "text": [
      "100%|██████████| 178/178 [09:00<00:00,  3.04s/it, loss=0.64]\n"
     ]
    },
    {
     "name": "stdout",
     "output_type": "stream",
     "text": [
      "Epoch [7/15], Loss: 0.6750, IoU: 0.4907, Precision: 0.8163, Recall: 0.5568, F1: 0.6564,Accuracy: 0.004168\n",
      "=> Saving checkpoint\n"
     ]
    },
    {
     "name": "stderr",
     "output_type": "stream",
     "text": [
      "/opt/conda/lib/python3.10/site-packages/sklearn/metrics/_classification.py:1344: UndefinedMetricWarning: Precision is ill-defined and being set to 0.0 due to no predicted samples. Use `zero_division` parameter to control this behavior.\n",
      "  _warn_prf(average, modifier, msg_start, len(result))\n"
     ]
    },
    {
     "name": "stdout",
     "output_type": "stream",
     "text": [
      "Got 41610625/46530560 with accuracy 89.42643737792969\n",
      "Average Precision: 0.6607\n",
      "Accuracy: 0.8942644361039283\n",
      "Average Dice Score: 0.6399\n",
      "Average F1 Score: 0.6399\n",
      "Average IoU Score: 0.5066\n"
     ]
    },
    {
     "name": "stderr",
     "output_type": "stream",
     "text": [
      "100%|██████████| 178/178 [09:02<00:00,  3.05s/it, loss=0.703]\n"
     ]
    },
    {
     "name": "stdout",
     "output_type": "stream",
     "text": [
      "Epoch [8/15], Loss: 0.6747, IoU: 0.4956, Precision: 0.8131, Recall: 0.5646, F1: 0.6612,Accuracy: 0.004681\n",
      "=> Saving checkpoint\n"
     ]
    },
    {
     "name": "stderr",
     "output_type": "stream",
     "text": [
      "/opt/conda/lib/python3.10/site-packages/sklearn/metrics/_classification.py:1344: UndefinedMetricWarning: Precision is ill-defined and being set to 0.0 due to no predicted samples. Use `zero_division` parameter to control this behavior.\n",
      "  _warn_prf(average, modifier, msg_start, len(result))\n"
     ]
    },
    {
     "name": "stdout",
     "output_type": "stream",
     "text": [
      "Got 41070476/46530560 with accuracy 88.26559448242188\n",
      "Average Precision: 0.6192\n",
      "Accuracy: 0.8826559577189701\n",
      "Average Dice Score: 0.6434\n",
      "Average F1 Score: 0.6434\n",
      "Average IoU Score: 0.5065\n"
     ]
    },
    {
     "name": "stderr",
     "output_type": "stream",
     "text": [
      "100%|██████████| 178/178 [09:07<00:00,  3.07s/it, loss=0.761]\n"
     ]
    },
    {
     "name": "stdout",
     "output_type": "stream",
     "text": [
      "Epoch [9/15], Loss: 0.6746, IoU: 0.4928, Precision: 0.8154, Recall: 0.5597, F1: 0.6584,Accuracy: 0.004663\n",
      "=> Saving checkpoint\n"
     ]
    },
    {
     "name": "stderr",
     "output_type": "stream",
     "text": [
      "/opt/conda/lib/python3.10/site-packages/sklearn/metrics/_classification.py:1344: UndefinedMetricWarning: Precision is ill-defined and being set to 0.0 due to no predicted samples. Use `zero_division` parameter to control this behavior.\n",
      "  _warn_prf(average, modifier, msg_start, len(result))\n"
     ]
    },
    {
     "name": "stdout",
     "output_type": "stream",
     "text": [
      "Got 41345131/46530560 with accuracy 88.85586547851562\n",
      "Average Precision: 0.6393\n",
      "Accuracy: 0.8885586375921545\n",
      "Average Dice Score: 0.6423\n",
      "Average F1 Score: 0.6423\n",
      "Average IoU Score: 0.5073\n"
     ]
    },
    {
     "name": "stderr",
     "output_type": "stream",
     "text": [
      "100%|██████████| 178/178 [09:10<00:00,  3.09s/it, loss=0.635]\n"
     ]
    },
    {
     "name": "stdout",
     "output_type": "stream",
     "text": [
      "Epoch [10/15], Loss: 0.6738, IoU: 0.4941, Precision: 0.8213, Recall: 0.5573, F1: 0.6592,Accuracy: 0.004623\n",
      "=> Saving checkpoint\n"
     ]
    },
    {
     "name": "stderr",
     "output_type": "stream",
     "text": [
      "/opt/conda/lib/python3.10/site-packages/sklearn/metrics/_classification.py:1344: UndefinedMetricWarning: Precision is ill-defined and being set to 0.0 due to no predicted samples. Use `zero_division` parameter to control this behavior.\n",
      "  _warn_prf(average, modifier, msg_start, len(result))\n",
      "/opt/conda/lib/python3.10/site-packages/sklearn/metrics/_classification.py:1344: UndefinedMetricWarning: Precision is ill-defined and being set to 0.0 due to no predicted samples. Use `zero_division` parameter to control this behavior.\n",
      "  _warn_prf(average, modifier, msg_start, len(result))\n",
      "/opt/conda/lib/python3.10/site-packages/sklearn/metrics/_classification.py:1344: UndefinedMetricWarning: Precision is ill-defined and being set to 0.0 due to no predicted samples. Use `zero_division` parameter to control this behavior.\n",
      "  _warn_prf(average, modifier, msg_start, len(result))\n"
     ]
    },
    {
     "name": "stdout",
     "output_type": "stream",
     "text": [
      "Got 41815695/46530560 with accuracy 89.8671646118164\n",
      "Average Precision: 0.6827\n",
      "Accuracy: 0.8986716471927266\n",
      "Average Dice Score: 0.6311\n",
      "Average F1 Score: 0.6311\n",
      "Average IoU Score: 0.5005\n"
     ]
    },
    {
     "name": "stderr",
     "output_type": "stream",
     "text": [
      "100%|██████████| 178/178 [09:13<00:00,  3.11s/it, loss=0.676]\n"
     ]
    },
    {
     "name": "stdout",
     "output_type": "stream",
     "text": [
      "Epoch [11/15], Loss: 0.6736, IoU: 0.4970, Precision: 0.8185, Recall: 0.5619, F1: 0.6622,Accuracy: 0.004839\n",
      "=> Saving checkpoint\n"
     ]
    },
    {
     "name": "stderr",
     "output_type": "stream",
     "text": [
      "/opt/conda/lib/python3.10/site-packages/sklearn/metrics/_classification.py:1344: UndefinedMetricWarning: Precision is ill-defined and being set to 0.0 due to no predicted samples. Use `zero_division` parameter to control this behavior.\n",
      "  _warn_prf(average, modifier, msg_start, len(result))\n"
     ]
    },
    {
     "name": "stdout",
     "output_type": "stream",
     "text": [
      "Got 41292184/46530560 with accuracy 88.74207305908203\n",
      "Average Precision: 0.6399\n",
      "Accuracy: 0.8874207402618838\n",
      "Average Dice Score: 0.6292\n",
      "Average F1 Score: 0.6292\n",
      "Average IoU Score: 0.4955\n"
     ]
    },
    {
     "name": "stderr",
     "output_type": "stream",
     "text": [
      "100%|██████████| 178/178 [09:23<00:00,  3.16s/it, loss=0.655]\n"
     ]
    },
    {
     "name": "stdout",
     "output_type": "stream",
     "text": [
      "Epoch [12/15], Loss: 0.6740, IoU: 0.4952, Precision: 0.8163, Recall: 0.5629, F1: 0.6605,Accuracy: 0.004748\n",
      "=> Saving checkpoint\n"
     ]
    },
    {
     "name": "stderr",
     "output_type": "stream",
     "text": [
      "/opt/conda/lib/python3.10/site-packages/sklearn/metrics/_classification.py:1344: UndefinedMetricWarning: Precision is ill-defined and being set to 0.0 due to no predicted samples. Use `zero_division` parameter to control this behavior.\n",
      "  _warn_prf(average, modifier, msg_start, len(result))\n",
      "/opt/conda/lib/python3.10/site-packages/sklearn/metrics/_classification.py:1344: UndefinedMetricWarning: Precision is ill-defined and being set to 0.0 due to no predicted samples. Use `zero_division` parameter to control this behavior.\n",
      "  _warn_prf(average, modifier, msg_start, len(result))\n"
     ]
    },
    {
     "name": "stdout",
     "output_type": "stream",
     "text": [
      "Got 41788102/46530560 with accuracy 89.80786895751953\n",
      "Average Precision: 0.6757\n",
      "Accuracy: 0.8980786390707527\n",
      "Average Dice Score: 0.6399\n",
      "Average F1 Score: 0.6399\n",
      "Average IoU Score: 0.5081\n"
     ]
    },
    {
     "name": "stderr",
     "output_type": "stream",
     "text": [
      "100%|██████████| 178/178 [09:10<00:00,  3.09s/it, loss=0.644]\n"
     ]
    },
    {
     "name": "stdout",
     "output_type": "stream",
     "text": [
      "Epoch [13/15], Loss: 0.6736, IoU: 0.4955, Precision: 0.8189, Recall: 0.5600, F1: 0.6611,Accuracy: 0.004794\n",
      "=> Saving checkpoint\n"
     ]
    },
    {
     "name": "stderr",
     "output_type": "stream",
     "text": [
      "/opt/conda/lib/python3.10/site-packages/sklearn/metrics/_classification.py:1344: UndefinedMetricWarning: Precision is ill-defined and being set to 0.0 due to no predicted samples. Use `zero_division` parameter to control this behavior.\n",
      "  _warn_prf(average, modifier, msg_start, len(result))\n",
      "/opt/conda/lib/python3.10/site-packages/sklearn/metrics/_classification.py:1344: UndefinedMetricWarning: Precision is ill-defined and being set to 0.0 due to no predicted samples. Use `zero_division` parameter to control this behavior.\n",
      "  _warn_prf(average, modifier, msg_start, len(result))\n",
      "/opt/conda/lib/python3.10/site-packages/sklearn/metrics/_classification.py:1344: UndefinedMetricWarning: Precision is ill-defined and being set to 0.0 due to no predicted samples. Use `zero_division` parameter to control this behavior.\n",
      "  _warn_prf(average, modifier, msg_start, len(result))\n"
     ]
    },
    {
     "name": "stdout",
     "output_type": "stream",
     "text": [
      "Got 41786004/46530560 with accuracy 89.80335235595703\n",
      "Average Precision: 0.6839\n",
      "Accuracy: 0.8980335504236355\n",
      "Average Dice Score: 0.6216\n",
      "Average F1 Score: 0.6216\n",
      "Average IoU Score: 0.4922\n"
     ]
    },
    {
     "name": "stderr",
     "output_type": "stream",
     "text": [
      "100%|██████████| 178/178 [08:46<00:00,  2.96s/it, loss=0.685]\n"
     ]
    },
    {
     "name": "stdout",
     "output_type": "stream",
     "text": [
      "Epoch [14/15], Loss: 0.6738, IoU: 0.4972, Precision: 0.8169, Recall: 0.5640, F1: 0.6621,Accuracy: 0.004399\n",
      "=> Saving checkpoint\n"
     ]
    },
    {
     "name": "stderr",
     "output_type": "stream",
     "text": [
      "/opt/conda/lib/python3.10/site-packages/sklearn/metrics/_classification.py:1344: UndefinedMetricWarning: Precision is ill-defined and being set to 0.0 due to no predicted samples. Use `zero_division` parameter to control this behavior.\n",
      "  _warn_prf(average, modifier, msg_start, len(result))\n"
     ]
    },
    {
     "name": "stdout",
     "output_type": "stream",
     "text": [
      "Got 41250132/46530560 with accuracy 88.65169525146484\n",
      "Average Precision: 0.6349\n",
      "Accuracy: 0.8865169901243398\n",
      "Average Dice Score: 0.6347\n",
      "Average F1 Score: 0.6347\n",
      "Average IoU Score: 0.5004\n"
     ]
    },
    {
     "name": "stderr",
     "output_type": "stream",
     "text": [
      "100%|██████████| 178/178 [08:53<00:00,  3.00s/it, loss=0.685]\n"
     ]
    },
    {
     "name": "stdout",
     "output_type": "stream",
     "text": [
      "Epoch [15/15], Loss: 0.6739, IoU: 0.4954, Precision: 0.8171, Recall: 0.5621, F1: 0.6608,Accuracy: 0.004978\n",
      "=> Saving checkpoint\n"
     ]
    },
    {
     "name": "stderr",
     "output_type": "stream",
     "text": [
      "/opt/conda/lib/python3.10/site-packages/sklearn/metrics/_classification.py:1344: UndefinedMetricWarning: Precision is ill-defined and being set to 0.0 due to no predicted samples. Use `zero_division` parameter to control this behavior.\n",
      "  _warn_prf(average, modifier, msg_start, len(result))\n",
      "/opt/conda/lib/python3.10/site-packages/sklearn/metrics/_classification.py:1344: UndefinedMetricWarning: Precision is ill-defined and being set to 0.0 due to no predicted samples. Use `zero_division` parameter to control this behavior.\n",
      "  _warn_prf(average, modifier, msg_start, len(result))\n",
      "/opt/conda/lib/python3.10/site-packages/sklearn/metrics/_classification.py:1344: UndefinedMetricWarning: Precision is ill-defined and being set to 0.0 due to no predicted samples. Use `zero_division` parameter to control this behavior.\n",
      "  _warn_prf(average, modifier, msg_start, len(result))\n"
     ]
    },
    {
     "name": "stdout",
     "output_type": "stream",
     "text": [
      "Got 41648665/46530560 with accuracy 89.50819396972656\n",
      "Average Precision: 0.6672\n",
      "Accuracy: 0.895081963337643\n",
      "Average Dice Score: 0.6283\n",
      "Average F1 Score: 0.6283\n",
      "Average IoU Score: 0.4971\n",
      "Training finished\n"
     ]
    },
    {
     "data": {
      "image/png": "[encoded data removed]",
      "text/plain": [
       "<Figure size 1200x800 with 1 Axes>"
      ]
     },
     "metadata": {},
     "output_type": "display_data"
    },
    {
     "data": {
      "image/png": "[encoded data removed]",
      "text/plain": [
       "<Figure size 1200x800 with 1 Axes>"
      ]
     },
     "metadata": {},
     "output_type": "display_data"
    }
   ],
   "source": [
    "from torch.optim.lr_scheduler import StepLR\n",
    "\n",
    "def main():\n",
    "    \n",
    "    # data augumentation:\n",
    "    train_transform = A.Compose(\n",
    "    [\n",
    "      A.Resize(height = IMAGE_HEIGHT,width = IMAGE_WIDTH),\n",
    "      A.Rotate(limit = 35,p=1.0),\n",
    "      A.HorizontalFlip(p=0.1),\n",
    "      A.VerticalFlip(p=0.1),\n",
    "      A.Normalize(\n",
    "          mean=[0.0,0.0,0.0],\n",
    "          std = [1.0,1.0,1.0],\n",
    "          max_pixel_value = 255.0\n",
    "      ),\n",
    "      ToTensorV2(),\n",
    "    ],is_check_shapes = False\n",
    "    )\n",
    "\n",
    "    val_transform = A.Compose(\n",
    "    [\n",
    "     A.Resize(height = IMAGE_HEIGHT,width = IMAGE_WIDTH),\n",
    "     A.Normalize(\n",
    "      mean=[0.0,0.0,0.0],\n",
    "      std = [1.0,1.0,1.0],\n",
    "      max_pixel_value = 255.0\n",
    "    ),\n",
    "    ToTensorV2(),\n",
    "    ],is_check_shapes = False\n",
    "    )\n",
    "\n",
    "    # model instance:\n",
    "    model = UNet(n_channels=3,num_classes=1).to(DEVICE)\n",
    "\n",
    "    # defining loss:\n",
    "    loss_fn = nn.BCEWithLogitsLoss()\n",
    "\n",
    "    #defining optimizer:\n",
    "    optimizer = optim.Adam(model.parameters(),lr = LEARNING_RATE)\n",
    "    scheduler = StepLR(optimizer, step_size=4, gamma=0.1)\n",
    "\n",
    "    # setting loaders:\n",
    "    train_loader,val_loader = get_loaders(\n",
    "        TRAIN_IMG_DIR,\n",
    "        TRAIN_MASK_DIR,\n",
    "        val_dir,\n",
    "        val_mask_dir,\n",
    "        BATCH_SIZE,\n",
    "        train_transform,\n",
    "        val_transform,\n",
    "        train_val,\n",
    "        NUM_WORKERS,\n",
    "        PIN_MEMORY,\n",
    "    )\n",
    "\n",
    "    # if LOAD_MODEL :\n",
    "    #   load_checkpoint(torch.load(\"my_checkpoint.pth.tar\"),model,optimizer=optimizer)\n",
    "\n",
    "    # check_accuracy(val_loader,model,device = DEVICE)\n",
    "\n",
    "    scaler = torch.cuda.amp.GradScaler()\n",
    "\n",
    "\n",
    "    # Initialize lists to store metric values for each epoch for validation dataset\n",
    "    iou_scores = []\n",
    "    precision_scores = []\n",
    "    recall_scores = []\n",
    "    f1_val = []\n",
    "    dice_scores = []\n",
    "    accuracy_vals = []\n",
    "\n",
    "    # Initialize lists to store metric values for each epoch for training dataset\n",
    "    iou_train = []\n",
    "    precision_train = []\n",
    "    recall_train = []\n",
    "    f1_train = []\n",
    "    loss_train = []\n",
    "    accuracy_train = []\n",
    "\n",
    "\n",
    "    for epoch in range(NUM_EPOCHS):\n",
    "        scheduler.step()\n",
    "        train_fn(epoch,NUM_EPOCHS,train_loader,model,optimizer,loss_fn,scaler,iou_train,precision_train,recall_train,f1_train,loss_train,accuracy_train)\n",
    "\n",
    "        # save model\n",
    "        checkpoint = {\n",
    "            \"state_dict\": model.state_dict(),\n",
    "            \"optimizer\": optimizer.state_dict(),\n",
    "        }\n",
    "        save_checkpoint(checkpoint)\n",
    "        \n",
    "        # check_accuracy\n",
    "        val_loss = 0.0\n",
    "        \n",
    "        check_accuracy(val_loader,model,accuracy_vals,dice_scores,iou_scores,precision_scores,recall_scores,f1_val,device = DEVICE)\n",
    "#         if epoch==0:\n",
    "#             best_val_loss=val_loss\n",
    "#             counter = 0\n",
    "#             patience = 3\n",
    "#         if val_loss < best_val_loss:\n",
    "#             best_val_loss = val_loss\n",
    "#             counter = 0\n",
    "#         else:\n",
    "#             counter += 1\n",
    "#             if counter >= patience:\n",
    "#                 print(\"Early stopping triggered.\")\n",
    "#                 save_predictions_as_imgs(\n",
    "#                 val_loader,model,folder=saved_folder,device = DEVICE\n",
    "#                 )\n",
    "#                 func(epoch,loss_train,iou_train,precision_train,recall_train,f1_train,iou_scores,precision_scores,recall_scores, f1_val,dice_scores, accuracy_vals)\n",
    "#                 break\n",
    "                \n",
    "        # print some examples to the folder\n",
    "        save_predictions_as_imgs(\n",
    "            val_loader,model,folder = saved_folder,device = DEVICE\n",
    "        )\n",
    "    print(\"Training finished\")\n",
    "\n",
    "    # Plot metrics and losses\n",
    "    # Plot for Training dataset\n",
    "    func(NUM_EPOCHS,loss_train,iou_train,precision_train,recall_train,f1_train,iou_scores,precision_scores,recall_scores, f1_val,dice_scores, accuracy_vals)\n",
    "\n",
    "if __name__ == \"__main__\":\n",
    "  main()"
   ]
  }
 ],
 "metadata": {
  "kernelspec": {
   "display_name": "Python 3",
   "language": "python",
   "name": "python3"
  },
  "language_info": {
   "codemirror_mode": {
    "name": "ipython",
    "version": 3
   },
   "file_extension": ".py",
   "mimetype": "text/x-python",
   "name": "python",
   "nbconvert_exporter": "python",
   "pygments_lexer": "ipython3",
   "version": "3.10.12"
  },
  "papermill": {
   "default_parameters": {},
   "duration": 10370.443597,
   "end_time": "2023-10-08T18:42:42.252868",
   "environment_variables": {},
   "exception": null,
   "input_path": "__notebook__.ipynb",
   "output_path": "__notebook__.ipynb",
   "parameters": {},
   "start_time": "2023-10-08T15:49:51.809271",
   "version": "2.4.0"
  }
 },
 "nbformat": 4,
 "nbformat_minor": 5
}
